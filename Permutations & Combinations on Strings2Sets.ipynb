{
 "cells": [
  {
   "cell_type": "markdown",
   "metadata": {
    "tags": []
   },
   "source": [
    " # Permutation and Combinations\n",
    " - Using itertools module\n",
    " - P & C are very important core concepts in probability.\n",
    " - They define sample space & events of interest"
   ]
  },
  {
   "cell_type": "code",
   "execution_count": 1,
   "metadata": {},
   "outputs": [],
   "source": [
    "import itertools\n",
    "import numpy as np"
   ]
  },
  {
   "cell_type": "code",
   "execution_count": 2,
   "metadata": {},
   "outputs": [],
   "source": [
    "import math"
   ]
  },
  {
   "cell_type": "code",
   "execution_count": 3,
   "metadata": {},
   "outputs": [],
   "source": [
    "name = 'prasannabadami'"
   ]
  },
  {
   "cell_type": "code",
   "execution_count": 4,
   "metadata": {},
   "outputs": [
    {
     "name": "stdout",
     "output_type": "stream",
     "text": [
      "name = prasannabadami\n",
      "name = 10\n",
      "name = 10\n",
      "name=10.000\n"
     ]
    }
   ],
   "source": [
    "x = 10\n",
    "print(\"name = %s\" % (name))\n",
    "print(\"name = %d\" % (x))\n",
    "print('name = {}'.format(x))\n",
    "print(f'name={x:0.3f}')"
   ]
  },
  {
   "cell_type": "code",
   "execution_count": 5,
   "metadata": {},
   "outputs": [
    {
     "data": {
      "text/plain": [
       "['p', 'r', 'a', 's', 'n', 'b', 'd', 'm', 'i']"
      ]
     },
     "execution_count": 5,
     "metadata": {},
     "output_type": "execute_result"
    }
   ],
   "source": [
    "sorted(set(name), key=name.index)\n",
    "\n",
    "# Unique logic\n",
    "# y = list()\n",
    "# for x in name:\n",
    "#     if(x not in y):\n",
    "#         y.append(x)\n",
    "        \n",
    "# print(y)\n"
   ]
  },
  {
   "cell_type": "code",
   "execution_count": 6,
   "metadata": {},
   "outputs": [
    {
     "name": "stdout",
     "output_type": "stream",
     "text": [
      "prasnbdmi\n"
     ]
    }
   ],
   "source": [
    "# set() as the defintion will collect only unique letters from the string but it is not ordered\n",
    "unique_name = \"\".join(sorted(set(name), key=name.index))\n",
    "print(unique_name)"
   ]
  },
  {
   "cell_type": "code",
   "execution_count": 7,
   "metadata": {},
   "outputs": [
    {
     "name": "stdout",
     "output_type": "stream",
     "text": [
      "The total number of permutation with: 181440\n"
     ]
    }
   ],
   "source": [
    "permutation_name = [''.join(i) for i in itertools.permutations(unique_name, 7)]\n",
    "# print(permutation_name)\n",
    "print(f'The total number of permutation with: {len(permutation_name)}')"
   ]
  },
  {
   "cell_type": "code",
   "execution_count": 7,
   "metadata": {},
   "outputs": [
    {
     "name": "stdout",
     "output_type": "stream",
     "text": [
      "['prasnbd', 'prasnbm', 'prasnbi', 'prasndm', 'prasndi', 'prasnmi', 'prasbdm', 'prasbdi', 'prasbmi', 'prasdmi', 'pranbdm', 'pranbdi', 'pranbmi', 'prandmi', 'prabdmi', 'prsnbdm', 'prsnbdi', 'prsnbmi', 'prsndmi', 'prsbdmi', 'prnbdmi', 'pasnbdm', 'pasnbdi', 'pasnbmi', 'pasndmi', 'pasbdmi', 'panbdmi', 'psnbdmi', 'rasnbdm', 'rasnbdi', 'rasnbmi', 'rasndmi', 'rasbdmi', 'ranbdmi', 'rsnbdmi', 'asnbdmi']\n",
      "The total number of combination: 36\n"
     ]
    }
   ],
   "source": [
    "combination_name = [''.join(i) for i in itertools.combinations(unique_name, 7)]\n",
    "print(combination_name)\n",
    "print(f'The total number of combination: {len(combination_name)}')"
   ]
  },
  {
   "cell_type": "code",
   "execution_count": 8,
   "metadata": {},
   "outputs": [
    {
     "data": {
      "text/plain": [
       "['AB', 'AC', 'BA', 'BC', 'CA', 'CB']"
      ]
     },
     "execution_count": 8,
     "metadata": {},
     "output_type": "execute_result"
    }
   ],
   "source": [
    "[''.join(i) for i in itertools.permutations('ABC', 2)]"
   ]
  },
  {
   "cell_type": "code",
   "execution_count": 9,
   "metadata": {},
   "outputs": [
    {
     "data": {
      "text/plain": [
       "['AB', 'AC', 'BC']"
      ]
     },
     "execution_count": 9,
     "metadata": {},
     "output_type": "execute_result"
    }
   ],
   "source": [
    "[''.join(i) for i in itertools.combinations('ABC', 2)]"
   ]
  },
  {
   "cell_type": "code",
   "execution_count": 10,
   "metadata": {},
   "outputs": [
    {
     "data": {
      "text/plain": [
       "['PrasannaBadamiMr.',\n",
       " 'PrasannaMr.Badami',\n",
       " 'BadamiPrasannaMr.',\n",
       " 'BadamiMr.Prasanna',\n",
       " 'Mr.PrasannaBadami',\n",
       " 'Mr.BadamiPrasanna']"
      ]
     },
     "execution_count": 10,
     "metadata": {},
     "output_type": "execute_result"
    }
   ],
   "source": [
    "[''.join(i) for i in itertools.permutations(['Prasanna', 'Badami', 'Mr.'], 3)]"
   ]
  },
  {
   "cell_type": "code",
   "execution_count": 11,
   "metadata": {},
   "outputs": [
    {
     "data": {
      "text/plain": [
       "['PrasannaBadamiMr.']"
      ]
     },
     "execution_count": 11,
     "metadata": {},
     "output_type": "execute_result"
    }
   ],
   "source": [
    "[''.join(i) for i in itertools.combinations(['Prasanna', 'Badami', 'Mr.'], 3)]"
   ]
  },
  {
   "cell_type": "code",
   "execution_count": 12,
   "metadata": {},
   "outputs": [
    {
     "data": {
      "text/plain": [
       "{('blue', 'yellow'),\n",
       " ('green', 'blue'),\n",
       " ('green', 'orange'),\n",
       " ('green', 'yellow'),\n",
       " ('orange', 'blue'),\n",
       " ('orange', 'yellow')}"
      ]
     },
     "execution_count": 12,
     "metadata": {},
     "output_type": "execute_result"
    }
   ],
   "source": [
    "sample_space = set(('blue','orange', 'green', 'yellow'))\n",
    "# Total number of way one can pick two colors at a time, order doesn't matter\n",
    "set([i for i in itertools.combinations(sample_space, 2)])"
   ]
  },
  {
   "cell_type": "code",
   "execution_count": 13,
   "metadata": {},
   "outputs": [
    {
     "data": {
      "text/plain": [
       "{('blue', 'green'),\n",
       " ('blue', 'orange'),\n",
       " ('blue', 'yellow'),\n",
       " ('green', 'blue'),\n",
       " ('green', 'orange'),\n",
       " ('green', 'yellow'),\n",
       " ('orange', 'blue'),\n",
       " ('orange', 'green'),\n",
       " ('orange', 'yellow'),\n",
       " ('yellow', 'blue'),\n",
       " ('yellow', 'green'),\n",
       " ('yellow', 'orange')}"
      ]
     },
     "execution_count": 13,
     "metadata": {},
     "output_type": "execute_result"
    }
   ],
   "source": [
    "# if order matters then.. \n",
    "set([i for i in itertools.permutations(sample_space, 2)])\n"
   ]
  },
  {
   "cell_type": "code",
   "execution_count": 14,
   "metadata": {},
   "outputs": [
    {
     "data": {
      "text/plain": [
       "{('blue', 'blue'),\n",
       " ('blue', 'yellow'),\n",
       " ('green', 'blue'),\n",
       " ('green', 'green'),\n",
       " ('green', 'orange'),\n",
       " ('green', 'yellow'),\n",
       " ('orange', 'blue'),\n",
       " ('orange', 'orange'),\n",
       " ('orange', 'yellow'),\n",
       " ('yellow', 'yellow')}"
      ]
     },
     "execution_count": 14,
     "metadata": {},
     "output_type": "execute_result"
    }
   ],
   "source": [
    "set([i for i in itertools.combinations_with_replacement(sample_space, 2)])"
   ]
  },
  {
   "cell_type": "code",
   "execution_count": 16,
   "metadata": {},
   "outputs": [],
   "source": [
    "from scipy import stats"
   ]
  },
  {
   "cell_type": "code",
   "execution_count": 121,
   "metadata": {},
   "outputs": [],
   "source": [
    "# loc = np+loc, = 100*0.5+loc, actually mean of binomial distribution = np\n",
    "binomial = stats.binom(100, 0.5, loc=0)"
   ]
  },
  {
   "cell_type": "code",
   "execution_count": 122,
   "metadata": {},
   "outputs": [
    {
     "data": {
      "text/plain": [
       "array([50, 56, 54, 53, 58, 51, 62, 62, 55, 62, 55, 53, 61, 54, 48, 45, 52,\n",
       "       54, 60, 53])"
      ]
     },
     "execution_count": 122,
     "metadata": {},
     "output_type": "execute_result"
    }
   ],
   "source": [
    "xb = binomial.rvs(size=20, random_state=100)\n",
    "xb"
   ]
  },
  {
   "cell_type": "code",
   "execution_count": 73,
   "metadata": {},
   "outputs": [],
   "source": [
    "import matplotlib.pyplot as plt"
   ]
  },
  {
   "cell_type": "code",
   "execution_count": 120,
   "metadata": {},
   "outputs": [
    {
     "data": {
      "text/plain": [
       "0.125"
      ]
     },
     "execution_count": 120,
     "metadata": {},
     "output_type": "execute_result"
    }
   ],
   "source": [
    "stats.binom.pmf(k=, n=3, p=0.5)"
   ]
  },
  {
   "cell_type": "code",
   "execution_count": 114,
   "metadata": {},
   "outputs": [
    {
     "data": {
      "text/plain": [
       "0.375"
      ]
     },
     "execution_count": 114,
     "metadata": {},
     "output_type": "execute_result"
    }
   ],
   "source": [
    "# math.comb(n, k, /)\n",
    "math.comb(3, 1) * (0.5)**1 * (0.5)**2"
   ]
  },
  {
   "cell_type": "code",
   "execution_count": null,
   "metadata": {
    "tags": []
   },
   "outputs": [],
   "source": []
  },
  {
   "cell_type": "code",
   "execution_count": 103,
   "metadata": {},
   "outputs": [
    {
     "data": {
      "text/plain": [
       "<BarContainer object of 20 artists>"
      ]
     },
     "execution_count": 103,
     "metadata": {},
     "output_type": "execute_result"
    },
    {
     "data": {
      "image/png": "[encoded data removed]",
      "text/plain": [
       "<Figure size 432x288 with 1 Axes>"
      ]
     },
     "metadata": {
      "needs_background": "light"
     },
     "output_type": "display_data"
    }
   ],
   "source": [
    "plt.bar(xb, stats.binom.pmf(k=sorted(xb), n=2, p=0.5, loc=50))"
   ]
  },
  {
   "cell_type": "code",
   "execution_count": 75,
   "metadata": {},
   "outputs": [
    {
     "data": {
      "text/plain": [
       "184756"
      ]
     },
     "execution_count": 75,
     "metadata": {},
     "output_type": "execute_result"
    }
   ],
   "source": [
    "math.comb(20, 10)"
   ]
  },
  {
   "cell_type": "code",
   "execution_count": 43,
   "metadata": {},
   "outputs": [
    {
     "data": {
      "text/plain": [
       "0.009765625"
      ]
     },
     "execution_count": 43,
     "metadata": {},
     "output_type": "execute_result"
    }
   ],
   "source": [
    "math.comb(10, 9) * (0.5)**9 * (0.5)**1"
   ]
  },
  {
   "cell_type": "code",
   "execution_count": 1,
   "metadata": {},
   "outputs": [
    {
     "data": {
      "text/plain": [
       "'🐈'"
      ]
     },
     "execution_count": 1,
     "metadata": {},
     "output_type": "execute_result"
    }
   ],
   "source": [
    "\"\\N{Cat}\""
   ]
  },
  {
   "cell_type": "code",
   "execution_count": null,
   "metadata": {},
   "outputs": [],
   "source": []
  }
 ],
 "metadata": {
  "kernelspec": {
   "display_name": "Python 3",
   "language": "python",
   "name": "python3"
  },
  "language_info": {
   "codemirror_mode": {
    "name": "ipython",
    "version": 3
   },
   "file_extension": ".py",
   "mimetype": "text/x-python",
   "name": "python",
   "nbconvert_exporter": "python",
   "pygments_lexer": "ipython3",
   "version": "3.9.9"
  }
 },
 "nbformat": 4,
 "nbformat_minor": 4
}
